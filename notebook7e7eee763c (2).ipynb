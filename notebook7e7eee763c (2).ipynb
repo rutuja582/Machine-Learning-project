{
 "cells": [
  {
   "cell_type": "code",
   "execution_count": 1,
   "id": "3521b919",
   "metadata": {
    "_cell_guid": "b1076dfc-b9ad-4769-8c92-a6c4dae69d19",
    "_uuid": "8f2839f25d086af736a60e9eeb907d3b93b6e0e5",
    "execution": {
     "iopub.execute_input": "2021-10-11T18:32:10.406555Z",
     "iopub.status.busy": "2021-10-11T18:32:10.405579Z",
     "iopub.status.idle": "2021-10-11T18:32:10.410925Z",
     "shell.execute_reply": "2021-10-11T18:32:10.411380Z",
     "shell.execute_reply.started": "2021-10-11T18:28:59.038712Z"
    },
    "papermill": {
     "duration": 0.036939,
     "end_time": "2021-10-11T18:32:10.411698",
     "exception": false,
     "start_time": "2021-10-11T18:32:10.374759",
     "status": "completed"
    },
    "tags": []
   },
   "outputs": [
    {
     "name": "stdout",
     "output_type": "stream",
     "text": [
      "/kaggle/input/restaurant-revenue-prediction/train.csv.zip\n",
      "/kaggle/input/restaurant-revenue-prediction/sampleSubmission.csv\n",
      "/kaggle/input/restaurant-revenue-prediction/test.csv.zip\n"
     ]
    }
   ],
   "source": [
    "# This Python 3 environment comes with many helpful analytics libraries installed\n",
    "# It is defined by the kaggle/python Docker image: https://github.com/kaggle/docker-python\n",
    "# For example, here's several helpful packages to load\n",
    "\n",
    "import numpy as np # linear algebra\n",
    "import pandas as pd # data processing, CSV file I/O (e.g. pd.read_csv)\n",
    "\n",
    "# Input data files are available in the read-only \"../input/\" directory\n",
    "# For example, running this (by clicking run or pressing Shift+Enter) will list all files under the input directory\n",
    "\n",
    "import os\n",
    "for dirname, _, filenames in os.walk('/kaggle/input'):\n",
    "    for filename in filenames:\n",
    "        print(os.path.join(dirname, filename))\n",
    "\n",
    "# You can write up to 20GB to the current directory (/kaggle/working/) that gets preserved as output when you create a version using \"Save & Run All\" \n",
    "# You can also write temporary files to /kaggle/temp/, but they won't be saved outside of the current session"
   ]
  },
  {
   "cell_type": "code",
   "execution_count": 2,
   "id": "15a976dc",
   "metadata": {
    "execution": {
     "iopub.execute_input": "2021-10-11T18:32:10.457096Z",
     "iopub.status.busy": "2021-10-11T18:32:10.456271Z",
     "iopub.status.idle": "2021-10-11T18:32:12.342078Z",
     "shell.execute_reply": "2021-10-11T18:32:12.342578Z",
     "shell.execute_reply.started": "2021-10-11T18:28:59.050554Z"
    },
    "papermill": {
     "duration": 1.911104,
     "end_time": "2021-10-11T18:32:12.342791",
     "exception": false,
     "start_time": "2021-10-11T18:32:10.431687",
     "status": "completed"
    },
    "tags": []
   },
   "outputs": [
    {
     "name": "stdout",
     "output_type": "stream",
     "text": [
      "/kaggle/input/restaurant-revenue-prediction/train.csv.zip\n",
      "/kaggle/input/restaurant-revenue-prediction/sampleSubmission.csv\n",
      "/kaggle/input/restaurant-revenue-prediction/test.csv.zip\n"
     ]
    }
   ],
   "source": [
    "import seaborn as sns\n",
    "import matplotlib.pyplot as plt\n",
    "from sklearn.ensemble import RandomForestRegressor\n",
    "from sklearn.model_selection import train_test_split\n",
    "from sklearn.feature_selection import SelectKBest\n",
    "import pandas as pd\n",
    "for dirname, _, filenames in os.walk('/kaggle/input'):\n",
    "    for filename in filenames:\n",
    "        print(os.path.join(dirname, filename))\n",
    "df_train = pd.read_csv(\"/kaggle/input/restaurant-revenue-prediction/train.csv.zip\")\n",
    "df_test =  pd.read_csv(\"/kaggle/input/restaurant-revenue-prediction/test.csv.zip\")"
   ]
  },
  {
   "cell_type": "code",
   "execution_count": 3,
   "id": "92881ac1",
   "metadata": {
    "execution": {
     "iopub.execute_input": "2021-10-11T18:32:12.385400Z",
     "iopub.status.busy": "2021-10-11T18:32:12.384462Z",
     "iopub.status.idle": "2021-10-11T18:32:12.429889Z",
     "shell.execute_reply": "2021-10-11T18:32:12.430377Z",
     "shell.execute_reply.started": "2021-10-11T18:28:59.482122Z"
    },
    "papermill": {
     "duration": 0.068217,
     "end_time": "2021-10-11T18:32:12.430550",
     "exception": false,
     "start_time": "2021-10-11T18:32:12.362333",
     "status": "completed"
    },
    "tags": []
   },
   "outputs": [
    {
     "data": {
      "text/html": [
       "<div>\n",
       "<style scoped>\n",
       "    .dataframe tbody tr th:only-of-type {\n",
       "        vertical-align: middle;\n",
       "    }\n",
       "\n",
       "    .dataframe tbody tr th {\n",
       "        vertical-align: top;\n",
       "    }\n",
       "\n",
       "    .dataframe thead th {\n",
       "        text-align: right;\n",
       "    }\n",
       "</style>\n",
       "<table border=\"1\" class=\"dataframe\">\n",
       "  <thead>\n",
       "    <tr style=\"text-align: right;\">\n",
       "      <th></th>\n",
       "      <th>Id</th>\n",
       "      <th>Open Date</th>\n",
       "      <th>City</th>\n",
       "      <th>City Group</th>\n",
       "      <th>Type</th>\n",
       "      <th>P1</th>\n",
       "      <th>P2</th>\n",
       "      <th>P3</th>\n",
       "      <th>P4</th>\n",
       "      <th>P5</th>\n",
       "      <th>...</th>\n",
       "      <th>P29</th>\n",
       "      <th>P30</th>\n",
       "      <th>P31</th>\n",
       "      <th>P32</th>\n",
       "      <th>P33</th>\n",
       "      <th>P34</th>\n",
       "      <th>P35</th>\n",
       "      <th>P36</th>\n",
       "      <th>P37</th>\n",
       "      <th>revenue</th>\n",
       "    </tr>\n",
       "  </thead>\n",
       "  <tbody>\n",
       "    <tr>\n",
       "      <th>0</th>\n",
       "      <td>0</td>\n",
       "      <td>07/17/1999</td>\n",
       "      <td>İstanbul</td>\n",
       "      <td>Big Cities</td>\n",
       "      <td>IL</td>\n",
       "      <td>4</td>\n",
       "      <td>5.0</td>\n",
       "      <td>4.0</td>\n",
       "      <td>4.0</td>\n",
       "      <td>2</td>\n",
       "      <td>...</td>\n",
       "      <td>3.0</td>\n",
       "      <td>5</td>\n",
       "      <td>3</td>\n",
       "      <td>4</td>\n",
       "      <td>5</td>\n",
       "      <td>5</td>\n",
       "      <td>4</td>\n",
       "      <td>3</td>\n",
       "      <td>4</td>\n",
       "      <td>5653753.0</td>\n",
       "    </tr>\n",
       "    <tr>\n",
       "      <th>1</th>\n",
       "      <td>1</td>\n",
       "      <td>02/14/2008</td>\n",
       "      <td>Ankara</td>\n",
       "      <td>Big Cities</td>\n",
       "      <td>FC</td>\n",
       "      <td>4</td>\n",
       "      <td>5.0</td>\n",
       "      <td>4.0</td>\n",
       "      <td>4.0</td>\n",
       "      <td>1</td>\n",
       "      <td>...</td>\n",
       "      <td>3.0</td>\n",
       "      <td>0</td>\n",
       "      <td>0</td>\n",
       "      <td>0</td>\n",
       "      <td>0</td>\n",
       "      <td>0</td>\n",
       "      <td>0</td>\n",
       "      <td>0</td>\n",
       "      <td>0</td>\n",
       "      <td>6923131.0</td>\n",
       "    </tr>\n",
       "    <tr>\n",
       "      <th>2</th>\n",
       "      <td>2</td>\n",
       "      <td>03/09/2013</td>\n",
       "      <td>Diyarbakır</td>\n",
       "      <td>Other</td>\n",
       "      <td>IL</td>\n",
       "      <td>2</td>\n",
       "      <td>4.0</td>\n",
       "      <td>2.0</td>\n",
       "      <td>5.0</td>\n",
       "      <td>2</td>\n",
       "      <td>...</td>\n",
       "      <td>3.0</td>\n",
       "      <td>0</td>\n",
       "      <td>0</td>\n",
       "      <td>0</td>\n",
       "      <td>0</td>\n",
       "      <td>0</td>\n",
       "      <td>0</td>\n",
       "      <td>0</td>\n",
       "      <td>0</td>\n",
       "      <td>2055379.0</td>\n",
       "    </tr>\n",
       "    <tr>\n",
       "      <th>3</th>\n",
       "      <td>3</td>\n",
       "      <td>02/02/2012</td>\n",
       "      <td>Tokat</td>\n",
       "      <td>Other</td>\n",
       "      <td>IL</td>\n",
       "      <td>6</td>\n",
       "      <td>4.5</td>\n",
       "      <td>6.0</td>\n",
       "      <td>6.0</td>\n",
       "      <td>4</td>\n",
       "      <td>...</td>\n",
       "      <td>7.5</td>\n",
       "      <td>25</td>\n",
       "      <td>12</td>\n",
       "      <td>10</td>\n",
       "      <td>6</td>\n",
       "      <td>18</td>\n",
       "      <td>12</td>\n",
       "      <td>12</td>\n",
       "      <td>6</td>\n",
       "      <td>2675511.0</td>\n",
       "    </tr>\n",
       "    <tr>\n",
       "      <th>4</th>\n",
       "      <td>4</td>\n",
       "      <td>05/09/2009</td>\n",
       "      <td>Gaziantep</td>\n",
       "      <td>Other</td>\n",
       "      <td>IL</td>\n",
       "      <td>3</td>\n",
       "      <td>4.0</td>\n",
       "      <td>3.0</td>\n",
       "      <td>4.0</td>\n",
       "      <td>2</td>\n",
       "      <td>...</td>\n",
       "      <td>3.0</td>\n",
       "      <td>5</td>\n",
       "      <td>1</td>\n",
       "      <td>3</td>\n",
       "      <td>2</td>\n",
       "      <td>3</td>\n",
       "      <td>4</td>\n",
       "      <td>3</td>\n",
       "      <td>3</td>\n",
       "      <td>4316715.0</td>\n",
       "    </tr>\n",
       "  </tbody>\n",
       "</table>\n",
       "<p>5 rows × 43 columns</p>\n",
       "</div>"
      ],
      "text/plain": [
       "   Id   Open Date        City  City Group Type  P1   P2   P3   P4  P5  ...  \\\n",
       "0   0  07/17/1999    İstanbul  Big Cities   IL   4  5.0  4.0  4.0   2  ...   \n",
       "1   1  02/14/2008      Ankara  Big Cities   FC   4  5.0  4.0  4.0   1  ...   \n",
       "2   2  03/09/2013  Diyarbakır       Other   IL   2  4.0  2.0  5.0   2  ...   \n",
       "3   3  02/02/2012       Tokat       Other   IL   6  4.5  6.0  6.0   4  ...   \n",
       "4   4  05/09/2009   Gaziantep       Other   IL   3  4.0  3.0  4.0   2  ...   \n",
       "\n",
       "   P29  P30  P31  P32  P33  P34  P35  P36  P37    revenue  \n",
       "0  3.0    5    3    4    5    5    4    3    4  5653753.0  \n",
       "1  3.0    0    0    0    0    0    0    0    0  6923131.0  \n",
       "2  3.0    0    0    0    0    0    0    0    0  2055379.0  \n",
       "3  7.5   25   12   10    6   18   12   12    6  2675511.0  \n",
       "4  3.0    5    1    3    2    3    4    3    3  4316715.0  \n",
       "\n",
       "[5 rows x 43 columns]"
      ]
     },
     "execution_count": 3,
     "metadata": {},
     "output_type": "execute_result"
    }
   ],
   "source": [
    "df_train = pd.read_csv(\"/kaggle/input/restaurant-revenue-prediction/train.csv.zip\")\n",
    "#to display first 5 rows\n",
    "df_train.head(5)"
   ]
  },
  {
   "cell_type": "code",
   "execution_count": 4,
   "id": "1f9168e7",
   "metadata": {
    "execution": {
     "iopub.execute_input": "2021-10-11T18:32:12.474397Z",
     "iopub.status.busy": "2021-10-11T18:32:12.473483Z",
     "iopub.status.idle": "2021-10-11T18:32:12.506057Z",
     "shell.execute_reply": "2021-10-11T18:32:12.506493Z",
     "shell.execute_reply.started": "2021-10-11T18:28:59.517556Z"
    },
    "papermill": {
     "duration": 0.056022,
     "end_time": "2021-10-11T18:32:12.506686",
     "exception": false,
     "start_time": "2021-10-11T18:32:12.450664",
     "status": "completed"
    },
    "tags": []
   },
   "outputs": [
    {
     "data": {
      "text/html": [
       "<div>\n",
       "<style scoped>\n",
       "    .dataframe tbody tr th:only-of-type {\n",
       "        vertical-align: middle;\n",
       "    }\n",
       "\n",
       "    .dataframe tbody tr th {\n",
       "        vertical-align: top;\n",
       "    }\n",
       "\n",
       "    .dataframe thead th {\n",
       "        text-align: right;\n",
       "    }\n",
       "</style>\n",
       "<table border=\"1\" class=\"dataframe\">\n",
       "  <thead>\n",
       "    <tr style=\"text-align: right;\">\n",
       "      <th></th>\n",
       "      <th>Id</th>\n",
       "      <th>Open Date</th>\n",
       "      <th>City</th>\n",
       "      <th>City Group</th>\n",
       "      <th>Type</th>\n",
       "      <th>P1</th>\n",
       "      <th>P2</th>\n",
       "      <th>P3</th>\n",
       "      <th>P4</th>\n",
       "      <th>P5</th>\n",
       "      <th>...</th>\n",
       "      <th>P29</th>\n",
       "      <th>P30</th>\n",
       "      <th>P31</th>\n",
       "      <th>P32</th>\n",
       "      <th>P33</th>\n",
       "      <th>P34</th>\n",
       "      <th>P35</th>\n",
       "      <th>P36</th>\n",
       "      <th>P37</th>\n",
       "      <th>revenue</th>\n",
       "    </tr>\n",
       "  </thead>\n",
       "  <tbody>\n",
       "    <tr>\n",
       "      <th>0</th>\n",
       "      <td>0</td>\n",
       "      <td>07/17/1999</td>\n",
       "      <td>İstanbul</td>\n",
       "      <td>Big Cities</td>\n",
       "      <td>IL</td>\n",
       "      <td>4</td>\n",
       "      <td>5.0</td>\n",
       "      <td>4.0</td>\n",
       "      <td>4.0</td>\n",
       "      <td>2</td>\n",
       "      <td>...</td>\n",
       "      <td>3.0</td>\n",
       "      <td>5</td>\n",
       "      <td>3</td>\n",
       "      <td>4</td>\n",
       "      <td>5</td>\n",
       "      <td>5</td>\n",
       "      <td>4</td>\n",
       "      <td>3</td>\n",
       "      <td>4</td>\n",
       "      <td>5653753.0</td>\n",
       "    </tr>\n",
       "    <tr>\n",
       "      <th>1</th>\n",
       "      <td>1</td>\n",
       "      <td>02/14/2008</td>\n",
       "      <td>Ankara</td>\n",
       "      <td>Big Cities</td>\n",
       "      <td>FC</td>\n",
       "      <td>4</td>\n",
       "      <td>5.0</td>\n",
       "      <td>4.0</td>\n",
       "      <td>4.0</td>\n",
       "      <td>1</td>\n",
       "      <td>...</td>\n",
       "      <td>3.0</td>\n",
       "      <td>0</td>\n",
       "      <td>0</td>\n",
       "      <td>0</td>\n",
       "      <td>0</td>\n",
       "      <td>0</td>\n",
       "      <td>0</td>\n",
       "      <td>0</td>\n",
       "      <td>0</td>\n",
       "      <td>6923131.0</td>\n",
       "    </tr>\n",
       "    <tr>\n",
       "      <th>2</th>\n",
       "      <td>2</td>\n",
       "      <td>03/09/2013</td>\n",
       "      <td>Diyarbakır</td>\n",
       "      <td>Other</td>\n",
       "      <td>IL</td>\n",
       "      <td>2</td>\n",
       "      <td>4.0</td>\n",
       "      <td>2.0</td>\n",
       "      <td>5.0</td>\n",
       "      <td>2</td>\n",
       "      <td>...</td>\n",
       "      <td>3.0</td>\n",
       "      <td>0</td>\n",
       "      <td>0</td>\n",
       "      <td>0</td>\n",
       "      <td>0</td>\n",
       "      <td>0</td>\n",
       "      <td>0</td>\n",
       "      <td>0</td>\n",
       "      <td>0</td>\n",
       "      <td>2055379.0</td>\n",
       "    </tr>\n",
       "    <tr>\n",
       "      <th>3</th>\n",
       "      <td>3</td>\n",
       "      <td>02/02/2012</td>\n",
       "      <td>Tokat</td>\n",
       "      <td>Other</td>\n",
       "      <td>IL</td>\n",
       "      <td>6</td>\n",
       "      <td>4.5</td>\n",
       "      <td>6.0</td>\n",
       "      <td>6.0</td>\n",
       "      <td>4</td>\n",
       "      <td>...</td>\n",
       "      <td>7.5</td>\n",
       "      <td>25</td>\n",
       "      <td>12</td>\n",
       "      <td>10</td>\n",
       "      <td>6</td>\n",
       "      <td>18</td>\n",
       "      <td>12</td>\n",
       "      <td>12</td>\n",
       "      <td>6</td>\n",
       "      <td>2675511.0</td>\n",
       "    </tr>\n",
       "    <tr>\n",
       "      <th>4</th>\n",
       "      <td>4</td>\n",
       "      <td>05/09/2009</td>\n",
       "      <td>Gaziantep</td>\n",
       "      <td>Other</td>\n",
       "      <td>IL</td>\n",
       "      <td>3</td>\n",
       "      <td>4.0</td>\n",
       "      <td>3.0</td>\n",
       "      <td>4.0</td>\n",
       "      <td>2</td>\n",
       "      <td>...</td>\n",
       "      <td>3.0</td>\n",
       "      <td>5</td>\n",
       "      <td>1</td>\n",
       "      <td>3</td>\n",
       "      <td>2</td>\n",
       "      <td>3</td>\n",
       "      <td>4</td>\n",
       "      <td>3</td>\n",
       "      <td>3</td>\n",
       "      <td>4316715.0</td>\n",
       "    </tr>\n",
       "    <tr>\n",
       "      <th>...</th>\n",
       "      <td>...</td>\n",
       "      <td>...</td>\n",
       "      <td>...</td>\n",
       "      <td>...</td>\n",
       "      <td>...</td>\n",
       "      <td>...</td>\n",
       "      <td>...</td>\n",
       "      <td>...</td>\n",
       "      <td>...</td>\n",
       "      <td>...</td>\n",
       "      <td>...</td>\n",
       "      <td>...</td>\n",
       "      <td>...</td>\n",
       "      <td>...</td>\n",
       "      <td>...</td>\n",
       "      <td>...</td>\n",
       "      <td>...</td>\n",
       "      <td>...</td>\n",
       "      <td>...</td>\n",
       "      <td>...</td>\n",
       "      <td>...</td>\n",
       "    </tr>\n",
       "    <tr>\n",
       "      <th>132</th>\n",
       "      <td>132</td>\n",
       "      <td>06/25/2008</td>\n",
       "      <td>Trabzon</td>\n",
       "      <td>Other</td>\n",
       "      <td>FC</td>\n",
       "      <td>2</td>\n",
       "      <td>3.0</td>\n",
       "      <td>3.0</td>\n",
       "      <td>5.0</td>\n",
       "      <td>4</td>\n",
       "      <td>...</td>\n",
       "      <td>3.0</td>\n",
       "      <td>0</td>\n",
       "      <td>0</td>\n",
       "      <td>0</td>\n",
       "      <td>0</td>\n",
       "      <td>0</td>\n",
       "      <td>0</td>\n",
       "      <td>0</td>\n",
       "      <td>0</td>\n",
       "      <td>5787594.0</td>\n",
       "    </tr>\n",
       "    <tr>\n",
       "      <th>133</th>\n",
       "      <td>133</td>\n",
       "      <td>10/12/2006</td>\n",
       "      <td>İzmir</td>\n",
       "      <td>Big Cities</td>\n",
       "      <td>FC</td>\n",
       "      <td>4</td>\n",
       "      <td>5.0</td>\n",
       "      <td>4.0</td>\n",
       "      <td>4.0</td>\n",
       "      <td>2</td>\n",
       "      <td>...</td>\n",
       "      <td>3.0</td>\n",
       "      <td>0</td>\n",
       "      <td>0</td>\n",
       "      <td>0</td>\n",
       "      <td>0</td>\n",
       "      <td>0</td>\n",
       "      <td>0</td>\n",
       "      <td>0</td>\n",
       "      <td>0</td>\n",
       "      <td>9262754.0</td>\n",
       "    </tr>\n",
       "    <tr>\n",
       "      <th>134</th>\n",
       "      <td>134</td>\n",
       "      <td>07/08/2006</td>\n",
       "      <td>Kayseri</td>\n",
       "      <td>Other</td>\n",
       "      <td>FC</td>\n",
       "      <td>3</td>\n",
       "      <td>4.0</td>\n",
       "      <td>4.0</td>\n",
       "      <td>4.0</td>\n",
       "      <td>2</td>\n",
       "      <td>...</td>\n",
       "      <td>3.0</td>\n",
       "      <td>0</td>\n",
       "      <td>0</td>\n",
       "      <td>0</td>\n",
       "      <td>0</td>\n",
       "      <td>0</td>\n",
       "      <td>0</td>\n",
       "      <td>0</td>\n",
       "      <td>0</td>\n",
       "      <td>2544857.0</td>\n",
       "    </tr>\n",
       "    <tr>\n",
       "      <th>135</th>\n",
       "      <td>135</td>\n",
       "      <td>10/29/2010</td>\n",
       "      <td>İstanbul</td>\n",
       "      <td>Big Cities</td>\n",
       "      <td>FC</td>\n",
       "      <td>4</td>\n",
       "      <td>5.0</td>\n",
       "      <td>4.0</td>\n",
       "      <td>5.0</td>\n",
       "      <td>2</td>\n",
       "      <td>...</td>\n",
       "      <td>3.0</td>\n",
       "      <td>0</td>\n",
       "      <td>0</td>\n",
       "      <td>0</td>\n",
       "      <td>0</td>\n",
       "      <td>0</td>\n",
       "      <td>0</td>\n",
       "      <td>0</td>\n",
       "      <td>0</td>\n",
       "      <td>7217634.0</td>\n",
       "    </tr>\n",
       "    <tr>\n",
       "      <th>136</th>\n",
       "      <td>136</td>\n",
       "      <td>09/01/2009</td>\n",
       "      <td>İstanbul</td>\n",
       "      <td>Big Cities</td>\n",
       "      <td>FC</td>\n",
       "      <td>4</td>\n",
       "      <td>5.0</td>\n",
       "      <td>3.0</td>\n",
       "      <td>5.0</td>\n",
       "      <td>2</td>\n",
       "      <td>...</td>\n",
       "      <td>3.0</td>\n",
       "      <td>0</td>\n",
       "      <td>0</td>\n",
       "      <td>0</td>\n",
       "      <td>0</td>\n",
       "      <td>0</td>\n",
       "      <td>0</td>\n",
       "      <td>0</td>\n",
       "      <td>0</td>\n",
       "      <td>6363241.0</td>\n",
       "    </tr>\n",
       "  </tbody>\n",
       "</table>\n",
       "<p>137 rows × 43 columns</p>\n",
       "</div>"
      ],
      "text/plain": [
       "      Id   Open Date        City  City Group Type  P1   P2   P3   P4  P5  ...  \\\n",
       "0      0  07/17/1999    İstanbul  Big Cities   IL   4  5.0  4.0  4.0   2  ...   \n",
       "1      1  02/14/2008      Ankara  Big Cities   FC   4  5.0  4.0  4.0   1  ...   \n",
       "2      2  03/09/2013  Diyarbakır       Other   IL   2  4.0  2.0  5.0   2  ...   \n",
       "3      3  02/02/2012       Tokat       Other   IL   6  4.5  6.0  6.0   4  ...   \n",
       "4      4  05/09/2009   Gaziantep       Other   IL   3  4.0  3.0  4.0   2  ...   \n",
       "..   ...         ...         ...         ...  ...  ..  ...  ...  ...  ..  ...   \n",
       "132  132  06/25/2008     Trabzon       Other   FC   2  3.0  3.0  5.0   4  ...   \n",
       "133  133  10/12/2006       İzmir  Big Cities   FC   4  5.0  4.0  4.0   2  ...   \n",
       "134  134  07/08/2006     Kayseri       Other   FC   3  4.0  4.0  4.0   2  ...   \n",
       "135  135  10/29/2010    İstanbul  Big Cities   FC   4  5.0  4.0  5.0   2  ...   \n",
       "136  136  09/01/2009    İstanbul  Big Cities   FC   4  5.0  3.0  5.0   2  ...   \n",
       "\n",
       "     P29  P30  P31  P32  P33  P34  P35  P36  P37    revenue  \n",
       "0    3.0    5    3    4    5    5    4    3    4  5653753.0  \n",
       "1    3.0    0    0    0    0    0    0    0    0  6923131.0  \n",
       "2    3.0    0    0    0    0    0    0    0    0  2055379.0  \n",
       "3    7.5   25   12   10    6   18   12   12    6  2675511.0  \n",
       "4    3.0    5    1    3    2    3    4    3    3  4316715.0  \n",
       "..   ...  ...  ...  ...  ...  ...  ...  ...  ...        ...  \n",
       "132  3.0    0    0    0    0    0    0    0    0  5787594.0  \n",
       "133  3.0    0    0    0    0    0    0    0    0  9262754.0  \n",
       "134  3.0    0    0    0    0    0    0    0    0  2544857.0  \n",
       "135  3.0    0    0    0    0    0    0    0    0  7217634.0  \n",
       "136  3.0    0    0    0    0    0    0    0    0  6363241.0  \n",
       "\n",
       "[137 rows x 43 columns]"
      ]
     },
     "execution_count": 4,
     "metadata": {},
     "output_type": "execute_result"
    }
   ],
   "source": [
    "#display basic structure of train data\n",
    "df_train"
   ]
  },
  {
   "cell_type": "code",
   "execution_count": 5,
   "id": "f8e25054",
   "metadata": {
    "execution": {
     "iopub.execute_input": "2021-10-11T18:32:12.553425Z",
     "iopub.status.busy": "2021-10-11T18:32:12.552480Z",
     "iopub.status.idle": "2021-10-11T18:32:12.557833Z",
     "shell.execute_reply": "2021-10-11T18:32:12.558285Z",
     "shell.execute_reply.started": "2021-10-11T18:28:59.558387Z"
    },
    "papermill": {
     "duration": 0.031203,
     "end_time": "2021-10-11T18:32:12.558453",
     "exception": false,
     "start_time": "2021-10-11T18:32:12.527250",
     "status": "completed"
    },
    "tags": []
   },
   "outputs": [
    {
     "data": {
      "text/plain": [
       "(137, 43)"
      ]
     },
     "execution_count": 5,
     "metadata": {},
     "output_type": "execute_result"
    }
   ],
   "source": [
    "#Total no of rows and columns\n",
    "df_train.shape"
   ]
  },
  {
   "cell_type": "code",
   "execution_count": 6,
   "id": "dfb5d055",
   "metadata": {
    "execution": {
     "iopub.execute_input": "2021-10-11T18:32:12.604223Z",
     "iopub.status.busy": "2021-10-11T18:32:12.603282Z",
     "iopub.status.idle": "2021-10-11T18:32:12.609329Z",
     "shell.execute_reply": "2021-10-11T18:32:12.609751Z",
     "shell.execute_reply.started": "2021-10-11T18:28:59.564409Z"
    },
    "papermill": {
     "duration": 0.030477,
     "end_time": "2021-10-11T18:32:12.609924",
     "exception": false,
     "start_time": "2021-10-11T18:32:12.579447",
     "status": "completed"
    },
    "tags": []
   },
   "outputs": [
    {
     "data": {
      "text/plain": [
       "Index(['Id', 'Open Date', 'City', 'City Group', 'Type', 'P1', 'P2', 'P3', 'P4',\n",
       "       'P5', 'P6', 'P7', 'P8', 'P9', 'P10', 'P11', 'P12', 'P13', 'P14', 'P15',\n",
       "       'P16', 'P17', 'P18', 'P19', 'P20', 'P21', 'P22', 'P23', 'P24', 'P25',\n",
       "       'P26', 'P27', 'P28', 'P29', 'P30', 'P31', 'P32', 'P33', 'P34', 'P35',\n",
       "       'P36', 'P37', 'revenue'],\n",
       "      dtype='object')"
      ]
     },
     "execution_count": 6,
     "metadata": {},
     "output_type": "execute_result"
    }
   ],
   "source": [
    "#Displaying Column names\n",
    "df_train.columns"
   ]
  },
  {
   "cell_type": "code",
   "execution_count": 7,
   "id": "5891625b",
   "metadata": {
    "execution": {
     "iopub.execute_input": "2021-10-11T18:32:12.672544Z",
     "iopub.status.busy": "2021-10-11T18:32:12.660974Z",
     "iopub.status.idle": "2021-10-11T18:32:12.675786Z",
     "shell.execute_reply": "2021-10-11T18:32:12.676189Z",
     "shell.execute_reply.started": "2021-10-11T18:28:59.583643Z"
    },
    "papermill": {
     "duration": 0.045089,
     "end_time": "2021-10-11T18:32:12.676359",
     "exception": false,
     "start_time": "2021-10-11T18:32:12.631270",
     "status": "completed"
    },
    "tags": []
   },
   "outputs": [
    {
     "data": {
      "text/plain": [
       "<bound method DataFrame.info of       Id   Open Date        City  City Group Type  P1   P2   P3   P4  P5  ...  \\\n",
       "0      0  07/17/1999    İstanbul  Big Cities   IL   4  5.0  4.0  4.0   2  ...   \n",
       "1      1  02/14/2008      Ankara  Big Cities   FC   4  5.0  4.0  4.0   1  ...   \n",
       "2      2  03/09/2013  Diyarbakır       Other   IL   2  4.0  2.0  5.0   2  ...   \n",
       "3      3  02/02/2012       Tokat       Other   IL   6  4.5  6.0  6.0   4  ...   \n",
       "4      4  05/09/2009   Gaziantep       Other   IL   3  4.0  3.0  4.0   2  ...   \n",
       "..   ...         ...         ...         ...  ...  ..  ...  ...  ...  ..  ...   \n",
       "132  132  06/25/2008     Trabzon       Other   FC   2  3.0  3.0  5.0   4  ...   \n",
       "133  133  10/12/2006       İzmir  Big Cities   FC   4  5.0  4.0  4.0   2  ...   \n",
       "134  134  07/08/2006     Kayseri       Other   FC   3  4.0  4.0  4.0   2  ...   \n",
       "135  135  10/29/2010    İstanbul  Big Cities   FC   4  5.0  4.0  5.0   2  ...   \n",
       "136  136  09/01/2009    İstanbul  Big Cities   FC   4  5.0  3.0  5.0   2  ...   \n",
       "\n",
       "     P29  P30  P31  P32  P33  P34  P35  P36  P37    revenue  \n",
       "0    3.0    5    3    4    5    5    4    3    4  5653753.0  \n",
       "1    3.0    0    0    0    0    0    0    0    0  6923131.0  \n",
       "2    3.0    0    0    0    0    0    0    0    0  2055379.0  \n",
       "3    7.5   25   12   10    6   18   12   12    6  2675511.0  \n",
       "4    3.0    5    1    3    2    3    4    3    3  4316715.0  \n",
       "..   ...  ...  ...  ...  ...  ...  ...  ...  ...        ...  \n",
       "132  3.0    0    0    0    0    0    0    0    0  5787594.0  \n",
       "133  3.0    0    0    0    0    0    0    0    0  9262754.0  \n",
       "134  3.0    0    0    0    0    0    0    0    0  2544857.0  \n",
       "135  3.0    0    0    0    0    0    0    0    0  7217634.0  \n",
       "136  3.0    0    0    0    0    0    0    0    0  6363241.0  \n",
       "\n",
       "[137 rows x 43 columns]>"
      ]
     },
     "execution_count": 7,
     "metadata": {},
     "output_type": "execute_result"
    }
   ],
   "source": [
    "df_train.info"
   ]
  },
  {
   "cell_type": "code",
   "execution_count": 8,
   "id": "2bf6c649",
   "metadata": {
    "execution": {
     "iopub.execute_input": "2021-10-11T18:32:12.723390Z",
     "iopub.status.busy": "2021-10-11T18:32:12.722425Z",
     "iopub.status.idle": "2021-10-11T18:32:12.732152Z",
     "shell.execute_reply": "2021-10-11T18:32:12.731287Z",
     "shell.execute_reply.started": "2021-10-11T18:28:59.613333Z"
    },
    "papermill": {
     "duration": 0.034387,
     "end_time": "2021-10-11T18:32:12.732330",
     "exception": false,
     "start_time": "2021-10-11T18:32:12.697943",
     "status": "completed"
    },
    "tags": []
   },
   "outputs": [
    {
     "data": {
      "text/plain": [
       "Id              int64\n",
       "Open Date      object\n",
       "City           object\n",
       "City Group     object\n",
       "Type           object\n",
       "P1              int64\n",
       "P2            float64\n",
       "P3            float64\n",
       "P4            float64\n",
       "P5              int64\n",
       "P6              int64\n",
       "P7              int64\n",
       "P8              int64\n",
       "P9              int64\n",
       "P10             int64\n",
       "P11             int64\n",
       "P12             int64\n",
       "P13           float64\n",
       "P14             int64\n",
       "P15             int64\n",
       "P16             int64\n",
       "P17             int64\n",
       "P18             int64\n",
       "P19             int64\n",
       "P20             int64\n",
       "P21             int64\n",
       "P22             int64\n",
       "P23             int64\n",
       "P24             int64\n",
       "P25             int64\n",
       "P26           float64\n",
       "P27           float64\n",
       "P28           float64\n",
       "P29           float64\n",
       "P30             int64\n",
       "P31             int64\n",
       "P32             int64\n",
       "P33             int64\n",
       "P34             int64\n",
       "P35             int64\n",
       "P36             int64\n",
       "P37             int64\n",
       "revenue       float64\n",
       "dtype: object"
      ]
     },
     "execution_count": 8,
     "metadata": {},
     "output_type": "execute_result"
    }
   ],
   "source": [
    "#Checking the data type\n",
    "df_train.dtypes"
   ]
  },
  {
   "cell_type": "code",
   "execution_count": 9,
   "id": "93defb88",
   "metadata": {
    "execution": {
     "iopub.execute_input": "2021-10-11T18:32:12.780706Z",
     "iopub.status.busy": "2021-10-11T18:32:12.779746Z",
     "iopub.status.idle": "2021-10-11T18:32:12.786176Z",
     "shell.execute_reply": "2021-10-11T18:32:12.785670Z",
     "shell.execute_reply.started": "2021-10-11T18:28:59.630569Z"
    },
    "papermill": {
     "duration": 0.031484,
     "end_time": "2021-10-11T18:32:12.786314",
     "exception": false,
     "start_time": "2021-10-11T18:32:12.754830",
     "status": "completed"
    },
    "tags": []
   },
   "outputs": [
    {
     "data": {
      "text/plain": [
       "(100000, 42)"
      ]
     },
     "execution_count": 9,
     "metadata": {},
     "output_type": "execute_result"
    }
   ],
   "source": [
    "#Structure of testing data\n",
    "df_test.shape"
   ]
  },
  {
   "cell_type": "code",
   "execution_count": 10,
   "id": "41c3bfcf",
   "metadata": {
    "execution": {
     "iopub.execute_input": "2021-10-11T18:32:12.847351Z",
     "iopub.status.busy": "2021-10-11T18:32:12.846377Z",
     "iopub.status.idle": "2021-10-11T18:32:12.855367Z",
     "shell.execute_reply": "2021-10-11T18:32:12.854601Z",
     "shell.execute_reply.started": "2021-10-11T18:28:59.642621Z"
    },
    "papermill": {
     "duration": 0.047006,
     "end_time": "2021-10-11T18:32:12.855561",
     "exception": false,
     "start_time": "2021-10-11T18:32:12.808555",
     "status": "completed"
    },
    "tags": []
   },
   "outputs": [
    {
     "name": "stdout",
     "output_type": "stream",
     "text": [
      "number of duplicate rows:  (0, 43)\n"
     ]
    }
   ],
   "source": [
    "#Rows containing duplicate data\n",
    "duplicate_rows_df_train = df_train[df_train.duplicated()]\n",
    "print(\"number of duplicate rows: \", duplicate_rows_df_train.shape)"
   ]
  },
  {
   "cell_type": "code",
   "execution_count": 11,
   "id": "958f7b62",
   "metadata": {
    "execution": {
     "iopub.execute_input": "2021-10-11T18:32:12.904508Z",
     "iopub.status.busy": "2021-10-11T18:32:12.903892Z",
     "iopub.status.idle": "2021-10-11T18:32:12.913834Z",
     "shell.execute_reply": "2021-10-11T18:32:12.912962Z",
     "shell.execute_reply.started": "2021-10-11T18:28:59.664895Z"
    },
    "papermill": {
     "duration": 0.035344,
     "end_time": "2021-10-11T18:32:12.914159",
     "exception": false,
     "start_time": "2021-10-11T18:32:12.878815",
     "status": "completed"
    },
    "tags": []
   },
   "outputs": [
    {
     "data": {
      "text/plain": [
       "Id            137\n",
       "Open Date     137\n",
       "City          137\n",
       "City Group    137\n",
       "Type          137\n",
       "P1            137\n",
       "P2            137\n",
       "P3            137\n",
       "P4            137\n",
       "P5            137\n",
       "P6            137\n",
       "P7            137\n",
       "P8            137\n",
       "P9            137\n",
       "P10           137\n",
       "P11           137\n",
       "P12           137\n",
       "P13           137\n",
       "P14           137\n",
       "P15           137\n",
       "P16           137\n",
       "P17           137\n",
       "P18           137\n",
       "P19           137\n",
       "P20           137\n",
       "P21           137\n",
       "P22           137\n",
       "P23           137\n",
       "P24           137\n",
       "P25           137\n",
       "P26           137\n",
       "P27           137\n",
       "P28           137\n",
       "P29           137\n",
       "P30           137\n",
       "P31           137\n",
       "P32           137\n",
       "P33           137\n",
       "P34           137\n",
       "P35           137\n",
       "P36           137\n",
       "P37           137\n",
       "revenue       137\n",
       "dtype: int64"
      ]
     },
     "execution_count": 11,
     "metadata": {},
     "output_type": "execute_result"
    }
   ],
   "source": [
    "#count no of rows \n",
    "df_train.count()"
   ]
  },
  {
   "cell_type": "code",
   "execution_count": 12,
   "id": "63f0111e",
   "metadata": {
    "execution": {
     "iopub.execute_input": "2021-10-11T18:32:12.980704Z",
     "iopub.status.busy": "2021-10-11T18:32:12.979613Z",
     "iopub.status.idle": "2021-10-11T18:32:12.981761Z",
     "shell.execute_reply": "2021-10-11T18:32:12.982520Z",
     "shell.execute_reply.started": "2021-10-11T18:28:59.681966Z"
    },
    "papermill": {
     "duration": 0.039482,
     "end_time": "2021-10-11T18:32:12.982815",
     "exception": false,
     "start_time": "2021-10-11T18:32:12.943333",
     "status": "completed"
    },
    "tags": []
   },
   "outputs": [],
   "source": [
    "df_train_columns = [col for col in df_train.columns if col not in [\"Id\", \"Open Date\"]]\n"
   ]
  },
  {
   "cell_type": "code",
   "execution_count": 13,
   "id": "c7bcee1b",
   "metadata": {
    "execution": {
     "iopub.execute_input": "2021-10-11T18:32:13.051470Z",
     "iopub.status.busy": "2021-10-11T18:32:13.050869Z",
     "iopub.status.idle": "2021-10-11T18:32:13.057352Z",
     "shell.execute_reply": "2021-10-11T18:32:13.057806Z",
     "shell.execute_reply.started": "2021-10-11T18:28:59.698053Z"
    },
    "papermill": {
     "duration": 0.040794,
     "end_time": "2021-10-11T18:32:13.057994",
     "exception": false,
     "start_time": "2021-10-11T18:32:13.017200",
     "status": "completed"
    },
    "tags": []
   },
   "outputs": [
    {
     "data": {
      "text/plain": [
       "['City',\n",
       " 'City Group',\n",
       " 'Type',\n",
       " 'P1',\n",
       " 'P2',\n",
       " 'P3',\n",
       " 'P4',\n",
       " 'P5',\n",
       " 'P6',\n",
       " 'P7',\n",
       " 'P8',\n",
       " 'P9',\n",
       " 'P10',\n",
       " 'P11',\n",
       " 'P12',\n",
       " 'P13',\n",
       " 'P14',\n",
       " 'P15',\n",
       " 'P16',\n",
       " 'P17',\n",
       " 'P18',\n",
       " 'P19',\n",
       " 'P20',\n",
       " 'P21',\n",
       " 'P22',\n",
       " 'P23',\n",
       " 'P24',\n",
       " 'P25',\n",
       " 'P26',\n",
       " 'P27',\n",
       " 'P28',\n",
       " 'P29',\n",
       " 'P30',\n",
       " 'P31',\n",
       " 'P32',\n",
       " 'P33',\n",
       " 'P34',\n",
       " 'P35',\n",
       " 'P36',\n",
       " 'P37',\n",
       " 'revenue']"
      ]
     },
     "execution_count": 13,
     "metadata": {},
     "output_type": "execute_result"
    }
   ],
   "source": [
    "df_train_columns"
   ]
  },
  {
   "cell_type": "code",
   "execution_count": 14,
   "id": "f58bc343",
   "metadata": {
    "execution": {
     "iopub.execute_input": "2021-10-11T18:32:13.109130Z",
     "iopub.status.busy": "2021-10-11T18:32:13.108415Z",
     "iopub.status.idle": "2021-10-11T18:32:13.116255Z",
     "shell.execute_reply": "2021-10-11T18:32:13.116725Z",
     "shell.execute_reply.started": "2021-10-11T18:28:59.713982Z"
    },
    "papermill": {
     "duration": 0.035112,
     "end_time": "2021-10-11T18:32:13.116913",
     "exception": false,
     "start_time": "2021-10-11T18:32:13.081801",
     "status": "completed"
    },
    "tags": []
   },
   "outputs": [
    {
     "data": {
      "text/plain": [
       "Index(['Id', 'P1', 'P2', 'P3', 'P4', 'P5', 'P6', 'P7', 'P8', 'P9', 'P10',\n",
       "       'P11', 'P12', 'P13', 'P14', 'P15', 'P16', 'P17', 'P18', 'P19', 'P20',\n",
       "       'P21', 'P22', 'P23', 'P24', 'P25', 'P26', 'P27', 'P28', 'P29', 'P30',\n",
       "       'P31', 'P32', 'P33', 'P34', 'P35', 'P36', 'P37', 'revenue'],\n",
       "      dtype='object')"
      ]
     },
     "execution_count": 14,
     "metadata": {},
     "output_type": "execute_result"
    }
   ],
   "source": [
    "#numerical columns\n",
    "num_col=df_train.select_dtypes(exclude=['object']).columns\n",
    "num_col"
   ]
  },
  {
   "cell_type": "code",
   "execution_count": 15,
   "id": "aa7eaffd",
   "metadata": {
    "execution": {
     "iopub.execute_input": "2021-10-11T18:32:13.167432Z",
     "iopub.status.busy": "2021-10-11T18:32:13.166818Z",
     "iopub.status.idle": "2021-10-11T18:32:13.174695Z",
     "shell.execute_reply": "2021-10-11T18:32:13.174198Z",
     "shell.execute_reply.started": "2021-10-11T18:28:59.731376Z"
    },
    "papermill": {
     "duration": 0.034428,
     "end_time": "2021-10-11T18:32:13.174844",
     "exception": false,
     "start_time": "2021-10-11T18:32:13.140416",
     "status": "completed"
    },
    "tags": []
   },
   "outputs": [
    {
     "data": {
      "text/plain": [
       "Index(['Open Date', 'City', 'City Group', 'Type'], dtype='object')"
      ]
     },
     "execution_count": 15,
     "metadata": {},
     "output_type": "execute_result"
    }
   ],
   "source": [
    "#categorical columns\n",
    "cat_col=df_train.select_dtypes(include=['object']).columns\n",
    "cat_col"
   ]
  },
  {
   "cell_type": "code",
   "execution_count": 16,
   "id": "0673bf42",
   "metadata": {
    "execution": {
     "iopub.execute_input": "2021-10-11T18:32:13.230249Z",
     "iopub.status.busy": "2021-10-11T18:32:13.229608Z",
     "iopub.status.idle": "2021-10-11T18:32:13.232408Z",
     "shell.execute_reply": "2021-10-11T18:32:13.232897Z",
     "shell.execute_reply.started": "2021-10-11T18:28:59.749117Z"
    },
    "papermill": {
     "duration": 0.034224,
     "end_time": "2021-10-11T18:32:13.233068",
     "exception": false,
     "start_time": "2021-10-11T18:32:13.198844",
     "status": "completed"
    },
    "tags": []
   },
   "outputs": [
    {
     "data": {
      "text/plain": [
       "[]"
      ]
     },
     "execution_count": 16,
     "metadata": {},
     "output_type": "execute_result"
    }
   ],
   "source": [
    "#getting null values if any\n",
    "df_train.columns[df_train.isna().any()].tolist()"
   ]
  },
  {
   "cell_type": "code",
   "execution_count": 17,
   "id": "f82b1bc8",
   "metadata": {
    "execution": {
     "iopub.execute_input": "2021-10-11T18:32:13.283659Z",
     "iopub.status.busy": "2021-10-11T18:32:13.283110Z",
     "iopub.status.idle": "2021-10-11T18:32:13.435906Z",
     "shell.execute_reply": "2021-10-11T18:32:13.435326Z",
     "shell.execute_reply.started": "2021-10-11T18:28:59.760201Z"
    },
    "papermill": {
     "duration": 0.178973,
     "end_time": "2021-10-11T18:32:13.436056",
     "exception": false,
     "start_time": "2021-10-11T18:32:13.257083",
     "status": "completed"
    },
    "tags": []
   },
   "outputs": [
    {
     "data": {
      "text/plain": [
       "<AxesSubplot:xlabel='City Group', ylabel='revenue'>"
      ]
     },
     "execution_count": 17,
     "metadata": {},
     "output_type": "execute_result"
    },
    {
     "data": {
      "image/png": "[encoded data removed]",
      "text/plain": [
       "<Figure size 432x288 with 1 Axes>"
      ]
     },
     "metadata": {
      "needs_background": "light"
     },
     "output_type": "display_data"
    }
   ],
   "source": [
    "cityPerc=df_train[[\"City Group\",\"revenue\"]].groupby(['City Group'],as_index=False).mean()\n",
    "sns.barplot(x='City Group', y='revenue',data=cityPerc)"
   ]
  },
  {
   "cell_type": "code",
   "execution_count": 18,
   "id": "e4ad711e",
   "metadata": {
    "execution": {
     "iopub.execute_input": "2021-10-11T18:32:13.525368Z",
     "iopub.status.busy": "2021-10-11T18:32:13.517894Z",
     "iopub.status.idle": "2021-10-11T18:32:13.655376Z",
     "shell.execute_reply": "2021-10-11T18:32:13.654810Z",
     "shell.execute_reply.started": "2021-10-11T18:28:59.903295Z"
    },
    "papermill": {
     "duration": 0.194233,
     "end_time": "2021-10-11T18:32:13.655509",
     "exception": false,
     "start_time": "2021-10-11T18:32:13.461276",
     "status": "completed"
    },
    "tags": []
   },
   "outputs": [
    {
     "data": {
      "text/plain": [
       "<AxesSubplot:xlabel='City', ylabel='revenue'>"
      ]
     },
     "execution_count": 18,
     "metadata": {},
     "output_type": "execute_result"
    },
    {
     "data": {
      "image/png": "[encoded data removed]",
      "text/plain": [
       "<Figure size 432x288 with 1 Axes>"
      ]
     },
     "metadata": {
      "needs_background": "light"
     },
     "output_type": "display_data"
    }
   ],
   "source": [
    "cityPerc=df_train[[\"City\",\"revenue\"]].groupby(['City'],as_index=False).mean()\n",
    "newDF=cityPerc.sort_values([\"revenue\"],ascending=False)\n",
    "sns.barplot(x='City', y='revenue',data=newDF.head(6))"
   ]
  },
  {
   "cell_type": "code",
   "execution_count": 19,
   "id": "e233df08",
   "metadata": {
    "execution": {
     "iopub.execute_input": "2021-10-11T18:32:13.737175Z",
     "iopub.status.busy": "2021-10-11T18:32:13.715448Z",
     "iopub.status.idle": "2021-10-11T18:32:13.879352Z",
     "shell.execute_reply": "2021-10-11T18:32:13.878849Z",
     "shell.execute_reply.started": "2021-10-11T18:29:00.095335Z"
    },
    "papermill": {
     "duration": 0.198296,
     "end_time": "2021-10-11T18:32:13.879490",
     "exception": false,
     "start_time": "2021-10-11T18:32:13.681194",
     "status": "completed"
    },
    "tags": []
   },
   "outputs": [
    {
     "data": {
      "text/plain": [
       "<AxesSubplot:xlabel='City', ylabel='revenue'>"
      ]
     },
     "execution_count": 19,
     "metadata": {},
     "output_type": "execute_result"
    },
    {
     "data": {
      "image/png": "[encoded data removed]",
      "text/plain": [
       "<Figure size 432x288 with 1 Axes>"
      ]
     },
     "metadata": {
      "needs_background": "light"
     },
     "output_type": "display_data"
    }
   ],
   "source": [
    "cityPerc=df_train[[\"City\",\"revenue\"]].groupby(['City'],as_index=False).mean()\n",
    "newDF=cityPerc.sort_values([\"revenue\"],ascending=True)\n",
    "sns.barplot(x='City', y='revenue',data=newDF.head(6))"
   ]
  },
  {
   "cell_type": "code",
   "execution_count": 20,
   "id": "144752a4",
   "metadata": {
    "execution": {
     "iopub.execute_input": "2021-10-11T18:32:14.067702Z",
     "iopub.status.busy": "2021-10-11T18:32:13.940068Z",
     "iopub.status.idle": "2021-10-11T18:32:14.176033Z",
     "shell.execute_reply": "2021-10-11T18:32:14.175458Z",
     "shell.execute_reply.started": "2021-10-11T18:29:00.279338Z"
    },
    "papermill": {
     "duration": 0.270405,
     "end_time": "2021-10-11T18:32:14.176181",
     "exception": false,
     "start_time": "2021-10-11T18:32:13.905776",
     "status": "completed"
    },
    "tags": []
   },
   "outputs": [
    {
     "data": {
      "text/plain": [
       "<AxesSubplot:xlabel='Type', ylabel='revenue'>"
      ]
     },
     "execution_count": 20,
     "metadata": {},
     "output_type": "execute_result"
    },
    {
     "data": {
      "image/png": "[encoded data removed]",
      "text/plain": [
       "<Figure size 432x288 with 1 Axes>"
      ]
     },
     "metadata": {
      "needs_background": "light"
     },
     "output_type": "display_data"
    }
   ],
   "source": [
    "cityPerc=df_train[[\"Type\",\"revenue\"]].groupby(['Type'],as_index=False).mean()\n",
    "sns.barplot(x='Type', y='revenue',data=cityPerc)"
   ]
  },
  {
   "cell_type": "code",
   "execution_count": 21,
   "id": "39ecc312",
   "metadata": {
    "execution": {
     "iopub.execute_input": "2021-10-11T18:32:14.255185Z",
     "iopub.status.busy": "2021-10-11T18:32:14.244960Z",
     "iopub.status.idle": "2021-10-11T18:32:14.259819Z",
     "shell.execute_reply": "2021-10-11T18:32:14.259332Z",
     "shell.execute_reply.started": "2021-10-11T18:29:00.417803Z"
    },
    "papermill": {
     "duration": 0.05634,
     "end_time": "2021-10-11T18:32:14.259962",
     "exception": false,
     "start_time": "2021-10-11T18:32:14.203622",
     "status": "completed"
    },
    "tags": []
   },
   "outputs": [
    {
     "data": {
      "text/html": [
       "<div>\n",
       "<style scoped>\n",
       "    .dataframe tbody tr th:only-of-type {\n",
       "        vertical-align: middle;\n",
       "    }\n",
       "\n",
       "    .dataframe tbody tr th {\n",
       "        vertical-align: top;\n",
       "    }\n",
       "\n",
       "    .dataframe thead th {\n",
       "        text-align: right;\n",
       "    }\n",
       "</style>\n",
       "<table border=\"1\" class=\"dataframe\">\n",
       "  <thead>\n",
       "    <tr style=\"text-align: right;\">\n",
       "      <th></th>\n",
       "      <th>Id</th>\n",
       "      <th>Open Date</th>\n",
       "      <th>City</th>\n",
       "      <th>City Group</th>\n",
       "      <th>Type</th>\n",
       "      <th>P1</th>\n",
       "      <th>P2</th>\n",
       "      <th>P3</th>\n",
       "      <th>P4</th>\n",
       "      <th>P5</th>\n",
       "      <th>...</th>\n",
       "      <th>P29</th>\n",
       "      <th>P30</th>\n",
       "      <th>P31</th>\n",
       "      <th>P32</th>\n",
       "      <th>P33</th>\n",
       "      <th>P34</th>\n",
       "      <th>P35</th>\n",
       "      <th>P36</th>\n",
       "      <th>P37</th>\n",
       "      <th>revenue</th>\n",
       "    </tr>\n",
       "  </thead>\n",
       "  <tbody>\n",
       "    <tr>\n",
       "      <th>0</th>\n",
       "      <td>0</td>\n",
       "      <td>07/17/1999</td>\n",
       "      <td>İstanbul</td>\n",
       "      <td>Big Cities</td>\n",
       "      <td>IL</td>\n",
       "      <td>4</td>\n",
       "      <td>5.0</td>\n",
       "      <td>4.0</td>\n",
       "      <td>4.0</td>\n",
       "      <td>2</td>\n",
       "      <td>...</td>\n",
       "      <td>3.0</td>\n",
       "      <td>5</td>\n",
       "      <td>3</td>\n",
       "      <td>4</td>\n",
       "      <td>5</td>\n",
       "      <td>5</td>\n",
       "      <td>4</td>\n",
       "      <td>3</td>\n",
       "      <td>4</td>\n",
       "      <td>5653753.0</td>\n",
       "    </tr>\n",
       "    <tr>\n",
       "      <th>1</th>\n",
       "      <td>1</td>\n",
       "      <td>02/14/2008</td>\n",
       "      <td>Ankara</td>\n",
       "      <td>Big Cities</td>\n",
       "      <td>FC</td>\n",
       "      <td>4</td>\n",
       "      <td>5.0</td>\n",
       "      <td>4.0</td>\n",
       "      <td>4.0</td>\n",
       "      <td>1</td>\n",
       "      <td>...</td>\n",
       "      <td>3.0</td>\n",
       "      <td>0</td>\n",
       "      <td>0</td>\n",
       "      <td>0</td>\n",
       "      <td>0</td>\n",
       "      <td>0</td>\n",
       "      <td>0</td>\n",
       "      <td>0</td>\n",
       "      <td>0</td>\n",
       "      <td>6923131.0</td>\n",
       "    </tr>\n",
       "    <tr>\n",
       "      <th>2</th>\n",
       "      <td>2</td>\n",
       "      <td>03/09/2013</td>\n",
       "      <td>Diyarbakır</td>\n",
       "      <td>Other</td>\n",
       "      <td>IL</td>\n",
       "      <td>2</td>\n",
       "      <td>4.0</td>\n",
       "      <td>2.0</td>\n",
       "      <td>5.0</td>\n",
       "      <td>2</td>\n",
       "      <td>...</td>\n",
       "      <td>3.0</td>\n",
       "      <td>0</td>\n",
       "      <td>0</td>\n",
       "      <td>0</td>\n",
       "      <td>0</td>\n",
       "      <td>0</td>\n",
       "      <td>0</td>\n",
       "      <td>0</td>\n",
       "      <td>0</td>\n",
       "      <td>2055379.0</td>\n",
       "    </tr>\n",
       "    <tr>\n",
       "      <th>3</th>\n",
       "      <td>3</td>\n",
       "      <td>02/02/2012</td>\n",
       "      <td>Tokat</td>\n",
       "      <td>Other</td>\n",
       "      <td>IL</td>\n",
       "      <td>6</td>\n",
       "      <td>4.5</td>\n",
       "      <td>6.0</td>\n",
       "      <td>6.0</td>\n",
       "      <td>4</td>\n",
       "      <td>...</td>\n",
       "      <td>7.5</td>\n",
       "      <td>25</td>\n",
       "      <td>12</td>\n",
       "      <td>10</td>\n",
       "      <td>6</td>\n",
       "      <td>18</td>\n",
       "      <td>12</td>\n",
       "      <td>12</td>\n",
       "      <td>6</td>\n",
       "      <td>2675511.0</td>\n",
       "    </tr>\n",
       "    <tr>\n",
       "      <th>4</th>\n",
       "      <td>4</td>\n",
       "      <td>05/09/2009</td>\n",
       "      <td>Gaziantep</td>\n",
       "      <td>Other</td>\n",
       "      <td>IL</td>\n",
       "      <td>3</td>\n",
       "      <td>4.0</td>\n",
       "      <td>3.0</td>\n",
       "      <td>4.0</td>\n",
       "      <td>2</td>\n",
       "      <td>...</td>\n",
       "      <td>3.0</td>\n",
       "      <td>5</td>\n",
       "      <td>1</td>\n",
       "      <td>3</td>\n",
       "      <td>2</td>\n",
       "      <td>3</td>\n",
       "      <td>4</td>\n",
       "      <td>3</td>\n",
       "      <td>3</td>\n",
       "      <td>4316715.0</td>\n",
       "    </tr>\n",
       "  </tbody>\n",
       "</table>\n",
       "<p>5 rows × 43 columns</p>\n",
       "</div>"
      ],
      "text/plain": [
       "   Id   Open Date        City  City Group Type  P1   P2   P3   P4  P5  ...  \\\n",
       "0   0  07/17/1999    İstanbul  Big Cities   IL   4  5.0  4.0  4.0   2  ...   \n",
       "1   1  02/14/2008      Ankara  Big Cities   FC   4  5.0  4.0  4.0   1  ...   \n",
       "2   2  03/09/2013  Diyarbakır       Other   IL   2  4.0  2.0  5.0   2  ...   \n",
       "3   3  02/02/2012       Tokat       Other   IL   6  4.5  6.0  6.0   4  ...   \n",
       "4   4  05/09/2009   Gaziantep       Other   IL   3  4.0  3.0  4.0   2  ...   \n",
       "\n",
       "   P29  P30  P31  P32  P33  P34  P35  P36  P37    revenue  \n",
       "0  3.0    5    3    4    5    5    4    3    4  5653753.0  \n",
       "1  3.0    0    0    0    0    0    0    0    0  6923131.0  \n",
       "2  3.0    0    0    0    0    0    0    0    0  2055379.0  \n",
       "3  7.5   25   12   10    6   18   12   12    6  2675511.0  \n",
       "4  3.0    5    1    3    2    3    4    3    3  4316715.0  \n",
       "\n",
       "[5 rows x 43 columns]"
      ]
     },
     "execution_count": 21,
     "metadata": {},
     "output_type": "execute_result"
    }
   ],
   "source": [
    "df_train.head()"
   ]
  },
  {
   "cell_type": "code",
   "execution_count": 22,
   "id": "ba3141f7",
   "metadata": {
    "execution": {
     "iopub.execute_input": "2021-10-11T18:32:14.321560Z",
     "iopub.status.busy": "2021-10-11T18:32:14.320503Z",
     "iopub.status.idle": "2021-10-11T18:32:15.115690Z",
     "shell.execute_reply": "2021-10-11T18:32:15.115080Z",
     "shell.execute_reply.started": "2021-10-11T18:29:00.449094Z"
    },
    "papermill": {
     "duration": 0.828515,
     "end_time": "2021-10-11T18:32:15.115837",
     "exception": false,
     "start_time": "2021-10-11T18:32:14.287322",
     "status": "completed"
    },
    "tags": []
   },
   "outputs": [
    {
     "data": {
      "image/png": "[encoded data removed]",
      "text/plain": [
       "<Figure size 1008x864 with 2 Axes>"
      ]
     },
     "metadata": {
      "needs_background": "light"
     },
     "output_type": "display_data"
    }
   ],
   "source": [
    "correlation = df_train[num_col].corr()\n",
    "f, ax=plt.subplots(figsize=(14,12))\n",
    "plt.title('Correlation of numerical attributes',size=16)\n",
    "sns.heatmap(correlation)\n",
    "plt.show()"
   ]
  },
  {
   "cell_type": "code",
   "execution_count": 23,
   "id": "8c5f7ffc",
   "metadata": {
    "execution": {
     "iopub.execute_input": "2021-10-11T18:32:15.181773Z",
     "iopub.status.busy": "2021-10-11T18:32:15.181142Z",
     "iopub.status.idle": "2021-10-11T18:32:15.185400Z",
     "shell.execute_reply": "2021-10-11T18:32:15.184817Z",
     "shell.execute_reply.started": "2021-10-11T18:29:01.552894Z"
    },
    "papermill": {
     "duration": 0.040635,
     "end_time": "2021-10-11T18:32:15.185533",
     "exception": false,
     "start_time": "2021-10-11T18:32:15.144898",
     "status": "completed"
    },
    "tags": []
   },
   "outputs": [
    {
     "data": {
      "text/plain": [
       "revenue    1.000000\n",
       "P2         0.191518\n",
       "P28        0.155534\n",
       "P6         0.139094\n",
       "P21        0.097411\n",
       "P11        0.084247\n",
       "P22        0.083562\n",
       "P1         0.070217\n",
       "P17        0.067137\n",
       "P7         0.051165\n",
       "P23        0.045507\n",
       "P25        0.036365\n",
       "P4         0.035685\n",
       "P19        0.027984\n",
       "P24        0.014222\n",
       "P20        0.014147\n",
       "P14        0.006441\n",
       "P15        0.000742\n",
       "Id        -0.006277\n",
       "P26       -0.007650\n",
       "P27       -0.013680\n",
       "P37       -0.019051\n",
       "P3        -0.024613\n",
       "P5        -0.028191\n",
       "P33       -0.032426\n",
       "P18       -0.034537\n",
       "P16       -0.037997\n",
       "P31       -0.040418\n",
       "P35       -0.050156\n",
       "P9        -0.050352\n",
       "P36       -0.050534\n",
       "P12       -0.062193\n",
       "P32       -0.065857\n",
       "P30       -0.066203\n",
       "P34       -0.072343\n",
       "P10       -0.073220\n",
       "P8        -0.084215\n",
       "P13       -0.105085\n",
       "P29       -0.114846\n",
       "Name: revenue, dtype: float64"
      ]
     },
     "execution_count": 23,
     "metadata": {},
     "output_type": "execute_result"
    }
   ],
   "source": [
    "correlation['revenue'].sort_values(ascending=False)"
   ]
  },
  {
   "cell_type": "code",
   "execution_count": 24,
   "id": "6b8690ed",
   "metadata": {
    "execution": {
     "iopub.execute_input": "2021-10-11T18:32:15.246859Z",
     "iopub.status.busy": "2021-10-11T18:32:15.246239Z",
     "iopub.status.idle": "2021-10-11T18:32:15.249094Z",
     "shell.execute_reply": "2021-10-11T18:32:15.249480Z",
     "shell.execute_reply.started": "2021-10-11T18:29:01.566730Z"
    },
    "papermill": {
     "duration": 0.034932,
     "end_time": "2021-10-11T18:32:15.249675",
     "exception": false,
     "start_time": "2021-10-11T18:32:15.214743",
     "status": "completed"
    },
    "tags": []
   },
   "outputs": [],
   "source": [
    "#df_train=df_train.drop('Open Date', axis=1)\n",
    "#df_train=df_train.drop('Id',axis=1)\n",
    "#df_train.head(5)"
   ]
  },
  {
   "cell_type": "code",
   "execution_count": 25,
   "id": "66d6d3f6",
   "metadata": {
    "execution": {
     "iopub.execute_input": "2021-10-11T18:32:15.310388Z",
     "iopub.status.busy": "2021-10-11T18:32:15.309788Z",
     "iopub.status.idle": "2021-10-11T18:32:15.339906Z",
     "shell.execute_reply": "2021-10-11T18:32:15.339314Z",
     "shell.execute_reply.started": "2021-10-11T18:29:01.576435Z"
    },
    "papermill": {
     "duration": 0.061622,
     "end_time": "2021-10-11T18:32:15.340042",
     "exception": false,
     "start_time": "2021-10-11T18:32:15.278420",
     "status": "completed"
    },
    "tags": []
   },
   "outputs": [
    {
     "data": {
      "text/html": [
       "<div>\n",
       "<style scoped>\n",
       "    .dataframe tbody tr th:only-of-type {\n",
       "        vertical-align: middle;\n",
       "    }\n",
       "\n",
       "    .dataframe tbody tr th {\n",
       "        vertical-align: top;\n",
       "    }\n",
       "\n",
       "    .dataframe thead th {\n",
       "        text-align: right;\n",
       "    }\n",
       "</style>\n",
       "<table border=\"1\" class=\"dataframe\">\n",
       "  <thead>\n",
       "    <tr style=\"text-align: right;\">\n",
       "      <th></th>\n",
       "      <th>Id</th>\n",
       "      <th>Open Date</th>\n",
       "      <th>City</th>\n",
       "      <th>City Group</th>\n",
       "      <th>Type</th>\n",
       "      <th>P1</th>\n",
       "      <th>P2</th>\n",
       "      <th>P3</th>\n",
       "      <th>P4</th>\n",
       "      <th>P5</th>\n",
       "      <th>...</th>\n",
       "      <th>P31</th>\n",
       "      <th>P32</th>\n",
       "      <th>P33</th>\n",
       "      <th>P34</th>\n",
       "      <th>P35</th>\n",
       "      <th>P36</th>\n",
       "      <th>P37</th>\n",
       "      <th>revenue</th>\n",
       "      <th>Big Cities</th>\n",
       "      <th>Other</th>\n",
       "    </tr>\n",
       "  </thead>\n",
       "  <tbody>\n",
       "    <tr>\n",
       "      <th>0</th>\n",
       "      <td>0</td>\n",
       "      <td>07/17/1999</td>\n",
       "      <td>İstanbul</td>\n",
       "      <td>Big Cities</td>\n",
       "      <td>IL</td>\n",
       "      <td>4</td>\n",
       "      <td>5.0</td>\n",
       "      <td>4.0</td>\n",
       "      <td>4.0</td>\n",
       "      <td>2</td>\n",
       "      <td>...</td>\n",
       "      <td>3</td>\n",
       "      <td>4</td>\n",
       "      <td>5</td>\n",
       "      <td>5</td>\n",
       "      <td>4</td>\n",
       "      <td>3</td>\n",
       "      <td>4</td>\n",
       "      <td>5653753.0</td>\n",
       "      <td>1</td>\n",
       "      <td>0</td>\n",
       "    </tr>\n",
       "    <tr>\n",
       "      <th>1</th>\n",
       "      <td>1</td>\n",
       "      <td>02/14/2008</td>\n",
       "      <td>Ankara</td>\n",
       "      <td>Big Cities</td>\n",
       "      <td>FC</td>\n",
       "      <td>4</td>\n",
       "      <td>5.0</td>\n",
       "      <td>4.0</td>\n",
       "      <td>4.0</td>\n",
       "      <td>1</td>\n",
       "      <td>...</td>\n",
       "      <td>0</td>\n",
       "      <td>0</td>\n",
       "      <td>0</td>\n",
       "      <td>0</td>\n",
       "      <td>0</td>\n",
       "      <td>0</td>\n",
       "      <td>0</td>\n",
       "      <td>6923131.0</td>\n",
       "      <td>1</td>\n",
       "      <td>0</td>\n",
       "    </tr>\n",
       "    <tr>\n",
       "      <th>2</th>\n",
       "      <td>2</td>\n",
       "      <td>03/09/2013</td>\n",
       "      <td>Diyarbakır</td>\n",
       "      <td>Other</td>\n",
       "      <td>IL</td>\n",
       "      <td>2</td>\n",
       "      <td>4.0</td>\n",
       "      <td>2.0</td>\n",
       "      <td>5.0</td>\n",
       "      <td>2</td>\n",
       "      <td>...</td>\n",
       "      <td>0</td>\n",
       "      <td>0</td>\n",
       "      <td>0</td>\n",
       "      <td>0</td>\n",
       "      <td>0</td>\n",
       "      <td>0</td>\n",
       "      <td>0</td>\n",
       "      <td>2055379.0</td>\n",
       "      <td>0</td>\n",
       "      <td>1</td>\n",
       "    </tr>\n",
       "    <tr>\n",
       "      <th>3</th>\n",
       "      <td>3</td>\n",
       "      <td>02/02/2012</td>\n",
       "      <td>Tokat</td>\n",
       "      <td>Other</td>\n",
       "      <td>IL</td>\n",
       "      <td>6</td>\n",
       "      <td>4.5</td>\n",
       "      <td>6.0</td>\n",
       "      <td>6.0</td>\n",
       "      <td>4</td>\n",
       "      <td>...</td>\n",
       "      <td>12</td>\n",
       "      <td>10</td>\n",
       "      <td>6</td>\n",
       "      <td>18</td>\n",
       "      <td>12</td>\n",
       "      <td>12</td>\n",
       "      <td>6</td>\n",
       "      <td>2675511.0</td>\n",
       "      <td>0</td>\n",
       "      <td>1</td>\n",
       "    </tr>\n",
       "    <tr>\n",
       "      <th>4</th>\n",
       "      <td>4</td>\n",
       "      <td>05/09/2009</td>\n",
       "      <td>Gaziantep</td>\n",
       "      <td>Other</td>\n",
       "      <td>IL</td>\n",
       "      <td>3</td>\n",
       "      <td>4.0</td>\n",
       "      <td>3.0</td>\n",
       "      <td>4.0</td>\n",
       "      <td>2</td>\n",
       "      <td>...</td>\n",
       "      <td>1</td>\n",
       "      <td>3</td>\n",
       "      <td>2</td>\n",
       "      <td>3</td>\n",
       "      <td>4</td>\n",
       "      <td>3</td>\n",
       "      <td>3</td>\n",
       "      <td>4316715.0</td>\n",
       "      <td>0</td>\n",
       "      <td>1</td>\n",
       "    </tr>\n",
       "  </tbody>\n",
       "</table>\n",
       "<p>5 rows × 45 columns</p>\n",
       "</div>"
      ],
      "text/plain": [
       "   Id   Open Date        City  City Group Type  P1   P2   P3   P4  P5  ...  \\\n",
       "0   0  07/17/1999    İstanbul  Big Cities   IL   4  5.0  4.0  4.0   2  ...   \n",
       "1   1  02/14/2008      Ankara  Big Cities   FC   4  5.0  4.0  4.0   1  ...   \n",
       "2   2  03/09/2013  Diyarbakır       Other   IL   2  4.0  2.0  5.0   2  ...   \n",
       "3   3  02/02/2012       Tokat       Other   IL   6  4.5  6.0  6.0   4  ...   \n",
       "4   4  05/09/2009   Gaziantep       Other   IL   3  4.0  3.0  4.0   2  ...   \n",
       "\n",
       "   P31  P32  P33  P34  P35  P36  P37    revenue  Big Cities  Other  \n",
       "0    3    4    5    5    4    3    4  5653753.0           1      0  \n",
       "1    0    0    0    0    0    0    0  6923131.0           1      0  \n",
       "2    0    0    0    0    0    0    0  2055379.0           0      1  \n",
       "3   12   10    6   18   12   12    6  2675511.0           0      1  \n",
       "4    1    3    2    3    4    3    3  4316715.0           0      1  \n",
       "\n",
       "[5 rows x 45 columns]"
      ]
     },
     "execution_count": 25,
     "metadata": {},
     "output_type": "execute_result"
    }
   ],
   "source": [
    "CityGroupDummyTrain=pd.get_dummies(df_train['City Group'])\n",
    "df_train=df_train.join(CityGroupDummyTrain)\n",
    "#df_train=df_train.drop('City Group', axis=1)\n",
    "df_train.head()"
   ]
  },
  {
   "cell_type": "code",
   "execution_count": 26,
   "id": "451da275",
   "metadata": {
    "execution": {
     "iopub.execute_input": "2021-10-11T18:32:15.420137Z",
     "iopub.status.busy": "2021-10-11T18:32:15.418807Z",
     "iopub.status.idle": "2021-10-11T18:32:15.549333Z",
     "shell.execute_reply": "2021-10-11T18:32:15.549846Z",
     "shell.execute_reply.started": "2021-10-11T18:29:01.615228Z"
    },
    "papermill": {
     "duration": 0.180441,
     "end_time": "2021-10-11T18:32:15.550025",
     "exception": false,
     "start_time": "2021-10-11T18:32:15.369584",
     "status": "completed"
    },
    "tags": []
   },
   "outputs": [],
   "source": [
    "# Data type conversion\n",
    "df_train = df_train.astype({\"City\":'category',\"City Group\":'category',\"Type\":'category', \"Open Date\":'datetime64[ns]'})\n",
    "# df_train.info()\n",
    "df_test = df_test.astype({\"City\":'category',\"City Group\":'category',\"Type\":'category', \"Open Date\":'datetime64[ns]'})\n",
    "# df_test.info()"
   ]
  },
  {
   "cell_type": "code",
   "execution_count": 27,
   "id": "0542ee5c",
   "metadata": {
    "execution": {
     "iopub.execute_input": "2021-10-11T18:32:15.613134Z",
     "iopub.status.busy": "2021-10-11T18:32:15.612171Z",
     "iopub.status.idle": "2021-10-11T18:32:15.623530Z",
     "shell.execute_reply": "2021-10-11T18:32:15.622861Z",
     "shell.execute_reply.started": "2021-10-11T18:29:01.734053Z"
    },
    "papermill": {
     "duration": 0.044104,
     "end_time": "2021-10-11T18:32:15.623713",
     "exception": false,
     "start_time": "2021-10-11T18:32:15.579609",
     "status": "completed"
    },
    "tags": []
   },
   "outputs": [
    {
     "name": "stdout",
     "output_type": "stream",
     "text": [
      "34\n",
      "['Big Cities', 'Other']\n",
      "['IL', 'FC', 'DT']\n"
     ]
    }
   ],
   "source": [
    "# 1. Check categories in train and test data\n",
    "# df_train : City, City group, Type\n",
    "cities = df_train.City.unique().tolist()\n",
    "print(len(cities))\n",
    "city_group = df_train['City Group'].unique().tolist()\n",
    "print(city_group)\n",
    "type_ = df_train['Type'].unique().tolist()\n",
    "print(type_)"
   ]
  },
  {
   "cell_type": "code",
   "execution_count": 28,
   "id": "c14d4fa4",
   "metadata": {
    "execution": {
     "iopub.execute_input": "2021-10-11T18:32:15.692952Z",
     "iopub.status.busy": "2021-10-11T18:32:15.691937Z",
     "iopub.status.idle": "2021-10-11T18:32:15.699821Z",
     "shell.execute_reply": "2021-10-11T18:32:15.700287Z",
     "shell.execute_reply.started": "2021-10-11T18:29:01.748196Z"
    },
    "papermill": {
     "duration": 0.044308,
     "end_time": "2021-10-11T18:32:15.700471",
     "exception": false,
     "start_time": "2021-10-11T18:32:15.656163",
     "status": "completed"
    },
    "tags": []
   },
   "outputs": [
    {
     "name": "stdout",
     "output_type": "stream",
     "text": [
      "57\n",
      "['Big Cities', 'Other']\n",
      "['IL', 'FC', 'DT']\n"
     ]
    }
   ],
   "source": [
    "cities = df_test.City.unique().tolist()\n",
    "print(len(cities))\n",
    "city_group = df_train['City Group'].unique().tolist()\n",
    "print(city_group)\n",
    "type_ = df_train['Type'].unique().tolist()\n",
    "print(type_)"
   ]
  },
  {
   "cell_type": "code",
   "execution_count": 29,
   "id": "4606f02a",
   "metadata": {
    "execution": {
     "iopub.execute_input": "2021-10-11T18:32:15.770284Z",
     "iopub.status.busy": "2021-10-11T18:32:15.769587Z",
     "iopub.status.idle": "2021-10-11T18:32:15.796136Z",
     "shell.execute_reply": "2021-10-11T18:32:15.796546Z",
     "shell.execute_reply.started": "2021-10-11T18:29:01.768376Z"
    },
    "papermill": {
     "duration": 0.065817,
     "end_time": "2021-10-11T18:32:15.796756",
     "exception": false,
     "start_time": "2021-10-11T18:32:15.730939",
     "status": "completed"
    },
    "tags": []
   },
   "outputs": [
    {
     "data": {
      "text/html": [
       "<div>\n",
       "<style scoped>\n",
       "    .dataframe tbody tr th:only-of-type {\n",
       "        vertical-align: middle;\n",
       "    }\n",
       "\n",
       "    .dataframe tbody tr th {\n",
       "        vertical-align: top;\n",
       "    }\n",
       "\n",
       "    .dataframe thead th {\n",
       "        text-align: right;\n",
       "    }\n",
       "</style>\n",
       "<table border=\"1\" class=\"dataframe\">\n",
       "  <thead>\n",
       "    <tr style=\"text-align: right;\">\n",
       "      <th></th>\n",
       "      <th>Importance</th>\n",
       "      <th>Features</th>\n",
       "    </tr>\n",
       "  </thead>\n",
       "  <tbody>\n",
       "    <tr>\n",
       "      <th>0</th>\n",
       "      <td>0.155</td>\n",
       "      <td>P29</td>\n",
       "    </tr>\n",
       "    <tr>\n",
       "      <th>1</th>\n",
       "      <td>0.115</td>\n",
       "      <td>P5</td>\n",
       "    </tr>\n",
       "    <tr>\n",
       "      <th>2</th>\n",
       "      <td>0.101</td>\n",
       "      <td>P6</td>\n",
       "    </tr>\n",
       "    <tr>\n",
       "      <th>3</th>\n",
       "      <td>0.085</td>\n",
       "      <td>P22</td>\n",
       "    </tr>\n",
       "    <tr>\n",
       "      <th>4</th>\n",
       "      <td>0.074</td>\n",
       "      <td>P8</td>\n",
       "    </tr>\n",
       "    <tr>\n",
       "      <th>5</th>\n",
       "      <td>0.068</td>\n",
       "      <td>P20</td>\n",
       "    </tr>\n",
       "    <tr>\n",
       "      <th>6</th>\n",
       "      <td>0.060</td>\n",
       "      <td>P2</td>\n",
       "    </tr>\n",
       "    <tr>\n",
       "      <th>7</th>\n",
       "      <td>0.060</td>\n",
       "      <td>P28</td>\n",
       "    </tr>\n",
       "    <tr>\n",
       "      <th>8</th>\n",
       "      <td>0.050</td>\n",
       "      <td>P17</td>\n",
       "    </tr>\n",
       "    <tr>\n",
       "      <th>9</th>\n",
       "      <td>0.045</td>\n",
       "      <td>P1</td>\n",
       "    </tr>\n",
       "    <tr>\n",
       "      <th>10</th>\n",
       "      <td>0.031</td>\n",
       "      <td>P23</td>\n",
       "    </tr>\n",
       "    <tr>\n",
       "      <th>11</th>\n",
       "      <td>0.024</td>\n",
       "      <td>P25</td>\n",
       "    </tr>\n",
       "    <tr>\n",
       "      <th>12</th>\n",
       "      <td>0.019</td>\n",
       "      <td>P21</td>\n",
       "    </tr>\n",
       "    <tr>\n",
       "      <th>13</th>\n",
       "      <td>0.019</td>\n",
       "      <td>Type</td>\n",
       "    </tr>\n",
       "    <tr>\n",
       "      <th>14</th>\n",
       "      <td>0.013</td>\n",
       "      <td>P12</td>\n",
       "    </tr>\n",
       "    <tr>\n",
       "      <th>15</th>\n",
       "      <td>0.009</td>\n",
       "      <td>P4</td>\n",
       "    </tr>\n",
       "    <tr>\n",
       "      <th>16</th>\n",
       "      <td>0.008</td>\n",
       "      <td>P19</td>\n",
       "    </tr>\n",
       "    <tr>\n",
       "      <th>17</th>\n",
       "      <td>0.008</td>\n",
       "      <td>P26</td>\n",
       "    </tr>\n",
       "    <tr>\n",
       "      <th>18</th>\n",
       "      <td>0.008</td>\n",
       "      <td>P32</td>\n",
       "    </tr>\n",
       "    <tr>\n",
       "      <th>19</th>\n",
       "      <td>0.007</td>\n",
       "      <td>P10</td>\n",
       "    </tr>\n",
       "  </tbody>\n",
       "</table>\n",
       "</div>"
      ],
      "text/plain": [
       "    Importance Features\n",
       "0        0.155      P29\n",
       "1        0.115       P5\n",
       "2        0.101       P6\n",
       "3        0.085      P22\n",
       "4        0.074       P8\n",
       "5        0.068      P20\n",
       "6        0.060       P2\n",
       "7        0.060      P28\n",
       "8        0.050      P17\n",
       "9        0.045       P1\n",
       "10       0.031      P23\n",
       "11       0.024      P25\n",
       "12       0.019      P21\n",
       "13       0.019     Type\n",
       "14       0.013      P12\n",
       "15       0.009       P4\n",
       "16       0.008      P19\n",
       "17       0.008      P26\n",
       "18       0.008      P32\n",
       "19       0.007      P10"
      ]
     },
     "execution_count": 29,
     "metadata": {},
     "output_type": "execute_result"
    }
   ],
   "source": [
    "df_train['City Group'] = df_train[['City Group']].apply(lambda x: x.cat.codes)\n",
    "df_train['Type'] = df_train[['Type']].apply(lambda x: x.cat.codes)\n",
    "from sklearn.tree import DecisionTreeRegressor\n",
    "\n",
    "df_train = df_train.drop(columns = ['Id','Open Date','City'],axis=1)\n",
    "X = df_train.loc[:, df_train.columns != 'revenue']\n",
    "y = df_train.loc[:, df_train.columns == 'revenue']\n",
    "\n",
    "tree = DecisionTreeRegressor().fit(X, y)\n",
    "# Feature importance dataframe\n",
    "d = {'Importance': np.round(tree.feature_importances_, 3) , 'Features': X.columns}\n",
    "feature_imp = pd.DataFrame(data=d)\n",
    "# Sort\n",
    "feature_imp_order = feature_imp.sort_values('Importance', ascending=False).reset_index(drop=True)[0:20]\n",
    "feature_imp_order"
   ]
  },
  {
   "cell_type": "code",
   "execution_count": 30,
   "id": "dcb308c3",
   "metadata": {
    "execution": {
     "iopub.execute_input": "2021-10-11T18:32:15.871146Z",
     "iopub.status.busy": "2021-10-11T18:32:15.870477Z",
     "iopub.status.idle": "2021-10-11T18:32:16.099519Z",
     "shell.execute_reply": "2021-10-11T18:32:16.098955Z",
     "shell.execute_reply.started": "2021-10-11T18:29:01.813014Z"
    },
    "papermill": {
     "duration": 0.271995,
     "end_time": "2021-10-11T18:32:16.099670",
     "exception": false,
     "start_time": "2021-10-11T18:32:15.827675",
     "status": "completed"
    },
    "tags": []
   },
   "outputs": [
    {
     "name": "stdout",
     "output_type": "stream",
     "text": [
      "Train Accuracy 22%\n",
      "Training RMSE Linear regression  2259646.3444479303\n",
      "Train Accuracy -4%\n",
      "Training RMSE SVM regressor  2617560.1117202747\n",
      "Train Accuracy -4%\n",
      "Training RMSE SVM regressor  859982.2383735374\n"
     ]
    },
    {
     "name": "stderr",
     "output_type": "stream",
     "text": [
      "/opt/conda/lib/python3.7/site-packages/sklearn/utils/validation.py:72: DataConversionWarning: A column-vector y was passed when a 1d array was expected. Please change the shape of y to (n_samples, ), for example using ravel().\n",
      "  return f(**kwargs)\n"
     ]
    }
   ],
   "source": [
    "# Training\n",
    "from sklearn import preprocessing, svm\n",
    "from sklearn.model_selection import train_test_split\n",
    "from sklearn.linear_model import LinearRegression\n",
    "from sklearn.preprocessing import StandardScaler\n",
    "from sklearn.metrics import mean_squared_error\n",
    "\n",
    "\n",
    "X_main = df_train[feature_imp_order.Features.values]\n",
    "y_main = df_train['revenue']\n",
    "scaler_train = StandardScaler()\n",
    "scaler_train.fit(X_main)\n",
    "X_main_scaled = scaler_train.transform(X_main)\n",
    "\n",
    "# Splitting the data into training and testing data\n",
    "linear_regr = LinearRegression()\n",
    "linear_regr.fit(X_main_scaled, y)\n",
    "y_pred = linear_regr.predict(X_main_scaled)\n",
    "accuracy = linear_regr.score(X_main_scaled,y)\n",
    "print(\"Train Accuracy {}%\".format(int(round(accuracy *100))))\n",
    "print(\"Training RMSE Linear regression \",mean_squared_error(y, y_pred, squared=False))\n",
    "\n",
    "from sklearn.svm import SVR\n",
    "svm_regr = SVR(kernel = 'rbf')\n",
    "svm_regr.fit(X_main_scaled, y)\n",
    "y_pred = svm_regr.predict(X_main_scaled)\n",
    "accuracy = svm_regr.score(X_main_scaled,y)\n",
    "print(\"Train Accuracy {}%\".format(int(round(accuracy *100))))\n",
    "print(\"Training RMSE SVM regressor \",mean_squared_error(y, y_pred, squared=False))\n",
    "\n",
    "# import the regressor\n",
    "from sklearn.tree import DecisionTreeRegressor \n",
    "  \n",
    "# create a regressor object\n",
    "dt_regr = DecisionTreeRegressor(random_state = 0) \n",
    "  \n",
    "# fit the regressor with X and Y data\n",
    "dt_regr.fit(X_main_scaled, y)\n",
    "y_pred = dt_regr.predict(X_main_scaled)\n",
    "print(\"Train Accuracy {}%\".format(int(round(accuracy *100))))\n",
    "print(\"Training RMSE SVM regressor \",mean_squared_error(y, y_pred, squared=False))"
   ]
  },
  {
   "cell_type": "code",
   "execution_count": 31,
   "id": "29cf8fd7",
   "metadata": {
    "execution": {
     "iopub.execute_input": "2021-10-11T18:32:16.165798Z",
     "iopub.status.busy": "2021-10-11T18:32:16.165147Z",
     "iopub.status.idle": "2021-10-11T18:32:17.461896Z",
     "shell.execute_reply": "2021-10-11T18:32:17.461384Z",
     "shell.execute_reply.started": "2021-10-11T18:29:01.863821Z"
    },
    "papermill": {
     "duration": 1.331078,
     "end_time": "2021-10-11T18:32:17.462042",
     "exception": false,
     "start_time": "2021-10-11T18:32:16.130964",
     "status": "completed"
    },
    "tags": []
   },
   "outputs": [
    {
     "data": {
      "text/html": [
       "<div>\n",
       "<style scoped>\n",
       "    .dataframe tbody tr th:only-of-type {\n",
       "        vertical-align: middle;\n",
       "    }\n",
       "\n",
       "    .dataframe tbody tr th {\n",
       "        vertical-align: top;\n",
       "    }\n",
       "\n",
       "    .dataframe thead th {\n",
       "        text-align: right;\n",
       "    }\n",
       "</style>\n",
       "<table border=\"1\" class=\"dataframe\">\n",
       "  <thead>\n",
       "    <tr style=\"text-align: right;\">\n",
       "      <th></th>\n",
       "      <th>Id</th>\n",
       "      <th>Prediction</th>\n",
       "    </tr>\n",
       "  </thead>\n",
       "  <tbody>\n",
       "    <tr>\n",
       "      <th>0</th>\n",
       "      <td>0</td>\n",
       "      <td>4250553.0</td>\n",
       "    </tr>\n",
       "    <tr>\n",
       "      <th>1</th>\n",
       "      <td>1</td>\n",
       "      <td>5787594.0</td>\n",
       "    </tr>\n",
       "    <tr>\n",
       "      <th>2</th>\n",
       "      <td>2</td>\n",
       "      <td>4758476.0</td>\n",
       "    </tr>\n",
       "    <tr>\n",
       "      <th>3</th>\n",
       "      <td>3</td>\n",
       "      <td>5787594.0</td>\n",
       "    </tr>\n",
       "    <tr>\n",
       "      <th>4</th>\n",
       "      <td>4</td>\n",
       "      <td>5444227.0</td>\n",
       "    </tr>\n",
       "    <tr>\n",
       "      <th>...</th>\n",
       "      <td>...</td>\n",
       "      <td>...</td>\n",
       "    </tr>\n",
       "    <tr>\n",
       "      <th>99995</th>\n",
       "      <td>99995</td>\n",
       "      <td>6412623.0</td>\n",
       "    </tr>\n",
       "    <tr>\n",
       "      <th>99996</th>\n",
       "      <td>99996</td>\n",
       "      <td>2792031.0</td>\n",
       "    </tr>\n",
       "    <tr>\n",
       "      <th>99997</th>\n",
       "      <td>99997</td>\n",
       "      <td>2058644.0</td>\n",
       "    </tr>\n",
       "    <tr>\n",
       "      <th>99998</th>\n",
       "      <td>99998</td>\n",
       "      <td>4350573.0</td>\n",
       "    </tr>\n",
       "    <tr>\n",
       "      <th>99999</th>\n",
       "      <td>99999</td>\n",
       "      <td>2018785.0</td>\n",
       "    </tr>\n",
       "  </tbody>\n",
       "</table>\n",
       "<p>100000 rows × 2 columns</p>\n",
       "</div>"
      ],
      "text/plain": [
       "          Id  Prediction\n",
       "0          0   4250553.0\n",
       "1          1   5787594.0\n",
       "2          2   4758476.0\n",
       "3          3   5787594.0\n",
       "4          4   5444227.0\n",
       "...      ...         ...\n",
       "99995  99995   6412623.0\n",
       "99996  99996   2792031.0\n",
       "99997  99997   2058644.0\n",
       "99998  99998   4350573.0\n",
       "99999  99999   2018785.0\n",
       "\n",
       "[100000 rows x 2 columns]"
      ]
     },
     "execution_count": 31,
     "metadata": {},
     "output_type": "execute_result"
    }
   ],
   "source": [
    "# Prepare test data\n",
    "df_test\n",
    "df_test['City Group'] = df_test[['City Group']].apply(lambda x: x.cat.codes)\n",
    "df_test['Type'] = df_test[['Type']].apply(lambda x: x.cat.codes)\n",
    "\n",
    "result_df_linear_regr = pd.DataFrame()\n",
    "result_df_linear_regr['Id'] = df_test['Id'].values\n",
    "\n",
    "result_df_svm_regr = pd.DataFrame()\n",
    "result_df_svm_regr['Id'] = df_test['Id'].values\n",
    "\n",
    "result_df_dt_regr = pd.DataFrame()\n",
    "result_df_dt_regr['Id'] = df_test['Id'].values\n",
    "\n",
    "df_test = df_test[feature_imp_order.Features.values]\n",
    "\n",
    "X_test = df_test.loc[:, df_test.columns != 'revenue']\n",
    "# y_test = df_test.loc[:, df_train.columns == 'revenue']\n",
    "\n",
    "scaler_test = StandardScaler()\n",
    "scaler_test.fit(X_test)\n",
    "X_test_scaled = scaler_test.transform(X_test)\n",
    "y_pred_linear_regr = linear_regr.predict(X_test_scaled)\n",
    "result_df_linear_regr['Prediction'] = y_pred_linear_regr\n",
    "result_df_linear_regr['Prediction'] = result_df_linear_regr['Prediction'].apply(lambda x:round(x,2))\n",
    "result_df_linear_regr\n",
    "\n",
    "y_pred_svm_regr = svm_regr.predict(X_test_scaled)\n",
    "result_df_svm_regr['Prediction'] = y_pred_svm_regr\n",
    "result_df_svm_regr['Prediction'] = result_df_svm_regr['Prediction'].apply(lambda x:round(x,2))\n",
    "result_df_svm_regr\n",
    "\n",
    "y_pred_dt_regr = dt_regr.predict(X_test_scaled)\n",
    "result_df_dt_regr['Prediction'] = y_pred_dt_regr\n",
    "result_df_dt_regr['Prediction'] = result_df_dt_regr['Prediction'].apply(lambda x:round(x,2))\n",
    "result_df_dt_regr.to_csv('Prediction_DT.csv',index=False)\n",
    "result_df_dt_regr"
   ]
  }
 ],
 "metadata": {
  "kernelspec": {
   "display_name": "Python 3",
   "language": "python",
   "name": "python3"
  },
  "language_info": {
   "codemirror_mode": {
    "name": "ipython",
    "version": 3
   },
   "file_extension": ".py",
   "mimetype": "text/x-python",
   "name": "python",
   "nbconvert_exporter": "python",
   "pygments_lexer": "ipython3",
   "version": "3.7.10"
  },
  "papermill": {
   "default_parameters": {},
   "duration": 15.783864,
   "end_time": "2021-10-11T18:32:18.926020",
   "environment_variables": {},
   "exception": null,
   "input_path": "__notebook__.ipynb",
   "output_path": "__notebook__.ipynb",
   "parameters": {},
   "start_time": "2021-10-11T18:32:03.142156",
   "version": "2.3.3"
  }
 },
 "nbformat": 4,
 "nbformat_minor": 5
}
